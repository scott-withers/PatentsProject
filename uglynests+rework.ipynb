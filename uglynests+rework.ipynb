{
 "cells": [
  {
   "cell_type": "code",
   "execution_count": 1,
   "metadata": {
    "collapsed": true
   },
   "outputs": [],
   "source": [
    "import os\n",
    "import pandas as pd\n",
    "import numpy as np"
   ]
  },
  {
   "cell_type": "code",
   "execution_count": 4,
   "metadata": {
    "collapsed": true
   },
   "outputs": [],
   "source": [
    "nests=pd.read_csv('uglynests.csv',header=None)"
   ]
  },
  {
   "cell_type": "code",
   "execution_count": 5,
   "metadata": {
    "collapsed": false
   },
   "outputs": [
    {
     "name": "stdout",
     "output_type": "stream",
     "text": [
      "           0            1          2     3     4     5    6    7    8\n",
      "0   13565851  (((((((2012   u'H01M')   10)    9)    4)   3)   3)   3)\n",
      "1   13657304  (((((((2012   u'H01M')    7)    4)    4)   1)   3)   1)\n",
      "2   13782409  (((((((2013   u'H01M')   14)    6)    8)   3)   6)   2)\n",
      "3   12799871  (((((((2010   u'H01M')    8)    5)    5)   3)   3)   3)\n",
      "4   13861455  (((((((2013   u'H01M')    4)    3)    4)   3)   2)   1)\n",
      "5   14475246  (((((((2014   u'H01M')    6)    2)    4)   2)   3)   2)\n",
      "6   13407409  (((((((2012   u'H01M')    4)    2)    3)   1)   2)   1)\n",
      "7   13845762  (((((((2013   u'H01M')   15)   12)    4)   2)   2)   1)\n",
      "8   14258647  (((((((2014   u'H01M')    6)    2)    5)   1)   3)   1)\n",
      "9   12891242  (((((((2010   u'H01M')    8)    3)    4)   1)   3)   1)\n",
      "10  14244997  (((((((2014   u'H01P')    2)    2)    2)   2)   2)   2)\n",
      "11  14255322  (((((((2014   u'H01M')    6)    5)    3)   2)   1)   1)\n",
      "12  13836321  (((((((2013   u'H01M')    3)    2)    3)   2)   3)   2)\n",
      "13  14311495  (((((((2014   u'H01P')    5)    5)    3)   3)   2)   2)\n",
      "14  13962718  (((((((2013   u'H01M')    5)    2)    2)   2)   1)   1)\n",
      "15  13512649  (((((((2012   u'H01M')   11)    6)    7)   3)   5)   2)\n",
      "16  13120214  (((((((2011   u'H01P')    4)    2)    3)   1)   2)   1)\n",
      "17  14535512  (((((((2014   u'H01M')   13)    7)    8)   3)   4)   1)\n",
      "18  14016422  (((((((2014   u'H01P')    7)    7)    4)   4)   3)   3)\n",
      "19  13699661  (((((((2013   u'H01M')    7)    4)    2)   1)   1)   1)\n",
      "20  13346409  (((((((2011   u'H01M')   12)   10)    4)   3)   1)   1)\n",
      "21  13615099  (((((((2012   u'H01M')    4)    3)    3)   2)   1)   1)\n",
      "22  13422514  (((((((2012   u'B60L')   42)   20)   16)   6)   8)   3)\n"
     ]
    }
   ],
   "source": [
    "print(nests)"
   ]
  },
  {
   "cell_type": "code",
   "execution_count": 6,
   "metadata": {
    "collapsed": true
   },
   "outputs": [],
   "source": [
    "nests['start'], nests['year'] = zip(*nests[1].map(lambda x: x.split('(((((((')))\n",
    "nests['start'], nests['subclass_code'], nests['end'] = zip(*nests[2].map(lambda x: x.split(\"'\")))\n",
    "nests['var3'], nests['end'] = zip(*nests[3].map(lambda x: x.split(')')))\n",
    "nests['var4'], nests['end'] = zip(*nests[4].map(lambda x: x.split(')')))\n",
    "nests['var5'], nests['end'] = zip(*nests[5].map(lambda x: x.split(')')))\n",
    "nests['var6'], nests['end'] = zip(*nests[6].map(lambda x: x.split(')')))\n",
    "nests['var7'], nests['end'] = zip(*nests[7].map(lambda x: x.split(')')))\n",
    "nests['var8'], nests['end'] = zip(*nests[8].map(lambda x: x.split(')')))"
   ]
  },
  {
   "cell_type": "code",
   "execution_count": 7,
   "metadata": {
    "collapsed": false
   },
   "outputs": [
    {
     "name": "stdout",
     "output_type": "stream",
     "text": [
      "           0            1          2     3     4     5    6    7    8 start  \\\n",
      "0   13565851  (((((((2012   u'H01M')   10)    9)    4)   3)   3)   3)     u   \n",
      "1   13657304  (((((((2012   u'H01M')    7)    4)    4)   1)   3)   1)     u   \n",
      "2   13782409  (((((((2013   u'H01M')   14)    6)    8)   3)   6)   2)     u   \n",
      "3   12799871  (((((((2010   u'H01M')    8)    5)    5)   3)   3)   3)     u   \n",
      "4   13861455  (((((((2013   u'H01M')    4)    3)    4)   3)   2)   1)     u   \n",
      "5   14475246  (((((((2014   u'H01M')    6)    2)    4)   2)   3)   2)     u   \n",
      "6   13407409  (((((((2012   u'H01M')    4)    2)    3)   1)   2)   1)     u   \n",
      "7   13845762  (((((((2013   u'H01M')   15)   12)    4)   2)   2)   1)     u   \n",
      "8   14258647  (((((((2014   u'H01M')    6)    2)    5)   1)   3)   1)     u   \n",
      "9   12891242  (((((((2010   u'H01M')    8)    3)    4)   1)   3)   1)     u   \n",
      "10  14244997  (((((((2014   u'H01P')    2)    2)    2)   2)   2)   2)     u   \n",
      "11  14255322  (((((((2014   u'H01M')    6)    5)    3)   2)   1)   1)     u   \n",
      "12  13836321  (((((((2013   u'H01M')    3)    2)    3)   2)   3)   2)     u   \n",
      "13  14311495  (((((((2014   u'H01P')    5)    5)    3)   3)   2)   2)     u   \n",
      "14  13962718  (((((((2013   u'H01M')    5)    2)    2)   2)   1)   1)     u   \n",
      "15  13512649  (((((((2012   u'H01M')   11)    6)    7)   3)   5)   2)     u   \n",
      "16  13120214  (((((((2011   u'H01P')    4)    2)    3)   1)   2)   1)     u   \n",
      "17  14535512  (((((((2014   u'H01M')   13)    7)    8)   3)   4)   1)     u   \n",
      "18  14016422  (((((((2014   u'H01P')    7)    7)    4)   4)   3)   3)     u   \n",
      "19  13699661  (((((((2013   u'H01M')    7)    4)    2)   1)   1)   1)     u   \n",
      "20  13346409  (((((((2011   u'H01M')   12)   10)    4)   3)   1)   1)     u   \n",
      "21  13615099  (((((((2012   u'H01M')    4)    3)    3)   2)   1)   1)     u   \n",
      "22  13422514  (((((((2012   u'B60L')   42)   20)   16)   6)   8)   3)     u   \n",
      "\n",
      "    year subclass_code end var3 var4 var5 var6 var7 var8  \n",
      "0   2012          H01M       10    9    4    3    3    3  \n",
      "1   2012          H01M        7    4    4    1    3    1  \n",
      "2   2013          H01M       14    6    8    3    6    2  \n",
      "3   2010          H01M        8    5    5    3    3    3  \n",
      "4   2013          H01M        4    3    4    3    2    1  \n",
      "5   2014          H01M        6    2    4    2    3    2  \n",
      "6   2012          H01M        4    2    3    1    2    1  \n",
      "7   2013          H01M       15   12    4    2    2    1  \n",
      "8   2014          H01M        6    2    5    1    3    1  \n",
      "9   2010          H01M        8    3    4    1    3    1  \n",
      "10  2014          H01P        2    2    2    2    2    2  \n",
      "11  2014          H01M        6    5    3    2    1    1  \n",
      "12  2013          H01M        3    2    3    2    3    2  \n",
      "13  2014          H01P        5    5    3    3    2    2  \n",
      "14  2013          H01M        5    2    2    2    1    1  \n",
      "15  2012          H01M       11    6    7    3    5    2  \n",
      "16  2011          H01P        4    2    3    1    2    1  \n",
      "17  2014          H01M       13    7    8    3    4    1  \n",
      "18  2014          H01P        7    7    4    4    3    3  \n",
      "19  2013          H01M        7    4    2    1    1    1  \n",
      "20  2011          H01M       12   10    4    3    1    1  \n",
      "21  2012          H01M        4    3    3    2    1    1  \n",
      "22  2012          B60L       42   20   16    6    8    3  \n"
     ]
    }
   ],
   "source": [
    "print(nests)"
   ]
  },
  {
   "cell_type": "code",
   "execution_count": 8,
   "metadata": {
    "collapsed": true
   },
   "outputs": [],
   "source": [
    "cols=nests.columns.tolist()"
   ]
  },
  {
   "cell_type": "code",
   "execution_count": 9,
   "metadata": {
    "collapsed": false
   },
   "outputs": [
    {
     "data": {
      "text/plain": [
       "[1,\n",
       " 2,\n",
       " 3,\n",
       " 4,\n",
       " 5,\n",
       " 6,\n",
       " 7,\n",
       " 8,\n",
       " 'start',\n",
       " 'end',\n",
       " 0,\n",
       " 'year',\n",
       " 'subclass_code',\n",
       " 'var3',\n",
       " 'var4',\n",
       " 'var5',\n",
       " 'var6',\n",
       " 'var7',\n",
       " 'var8']"
      ]
     },
     "execution_count": 9,
     "metadata": {},
     "output_type": "execute_result"
    }
   ],
   "source": [
    "cols[1:10]+cols[12:13]+cols[:1]+cols[10:12]+cols[-6:]"
   ]
  },
  {
   "cell_type": "code",
   "execution_count": 10,
   "metadata": {
    "collapsed": true
   },
   "outputs": [],
   "source": [
    "cols=cols[1:10]+cols[12:13]+cols[:1]+cols[10:12]+cols[-6:]"
   ]
  },
  {
   "cell_type": "code",
   "execution_count": 11,
   "metadata": {
    "collapsed": true
   },
   "outputs": [],
   "source": [
    "nests=nests[cols]"
   ]
  },
  {
   "cell_type": "code",
   "execution_count": 12,
   "metadata": {
    "collapsed": false
   },
   "outputs": [
    {
     "name": "stdout",
     "output_type": "stream",
     "text": [
      "              1          2     3     4     5    6    7    8 start end  \\\n",
      "0   (((((((2012   u'H01M')   10)    9)    4)   3)   3)   3)     u       \n",
      "1   (((((((2012   u'H01M')    7)    4)    4)   1)   3)   1)     u       \n",
      "2   (((((((2013   u'H01M')   14)    6)    8)   3)   6)   2)     u       \n",
      "3   (((((((2010   u'H01M')    8)    5)    5)   3)   3)   3)     u       \n",
      "4   (((((((2013   u'H01M')    4)    3)    4)   3)   2)   1)     u       \n",
      "5   (((((((2014   u'H01M')    6)    2)    4)   2)   3)   2)     u       \n",
      "6   (((((((2012   u'H01M')    4)    2)    3)   1)   2)   1)     u       \n",
      "7   (((((((2013   u'H01M')   15)   12)    4)   2)   2)   1)     u       \n",
      "8   (((((((2014   u'H01M')    6)    2)    5)   1)   3)   1)     u       \n",
      "9   (((((((2010   u'H01M')    8)    3)    4)   1)   3)   1)     u       \n",
      "10  (((((((2014   u'H01P')    2)    2)    2)   2)   2)   2)     u       \n",
      "11  (((((((2014   u'H01M')    6)    5)    3)   2)   1)   1)     u       \n",
      "12  (((((((2013   u'H01M')    3)    2)    3)   2)   3)   2)     u       \n",
      "13  (((((((2014   u'H01P')    5)    5)    3)   3)   2)   2)     u       \n",
      "14  (((((((2013   u'H01M')    5)    2)    2)   2)   1)   1)     u       \n",
      "15  (((((((2012   u'H01M')   11)    6)    7)   3)   5)   2)     u       \n",
      "16  (((((((2011   u'H01P')    4)    2)    3)   1)   2)   1)     u       \n",
      "17  (((((((2014   u'H01M')   13)    7)    8)   3)   4)   1)     u       \n",
      "18  (((((((2014   u'H01P')    7)    7)    4)   4)   3)   3)     u       \n",
      "19  (((((((2013   u'H01M')    7)    4)    2)   1)   1)   1)     u       \n",
      "20  (((((((2011   u'H01M')   12)   10)    4)   3)   1)   1)     u       \n",
      "21  (((((((2012   u'H01M')    4)    3)    3)   2)   1)   1)     u       \n",
      "22  (((((((2012   u'B60L')   42)   20)   16)   6)   8)   3)     u       \n",
      "\n",
      "           0  year subclass_code var3 var4 var5 var6 var7 var8  \n",
      "0   13565851  2012          H01M   10    9    4    3    3    3  \n",
      "1   13657304  2012          H01M    7    4    4    1    3    1  \n",
      "2   13782409  2013          H01M   14    6    8    3    6    2  \n",
      "3   12799871  2010          H01M    8    5    5    3    3    3  \n",
      "4   13861455  2013          H01M    4    3    4    3    2    1  \n",
      "5   14475246  2014          H01M    6    2    4    2    3    2  \n",
      "6   13407409  2012          H01M    4    2    3    1    2    1  \n",
      "7   13845762  2013          H01M   15   12    4    2    2    1  \n",
      "8   14258647  2014          H01M    6    2    5    1    3    1  \n",
      "9   12891242  2010          H01M    8    3    4    1    3    1  \n",
      "10  14244997  2014          H01P    2    2    2    2    2    2  \n",
      "11  14255322  2014          H01M    6    5    3    2    1    1  \n",
      "12  13836321  2013          H01M    3    2    3    2    3    2  \n",
      "13  14311495  2014          H01P    5    5    3    3    2    2  \n",
      "14  13962718  2013          H01M    5    2    2    2    1    1  \n",
      "15  13512649  2012          H01M   11    6    7    3    5    2  \n",
      "16  13120214  2011          H01P    4    2    3    1    2    1  \n",
      "17  14535512  2014          H01M   13    7    8    3    4    1  \n",
      "18  14016422  2014          H01P    7    7    4    4    3    3  \n",
      "19  13699661  2013          H01M    7    4    2    1    1    1  \n",
      "20  13346409  2011          H01M   12   10    4    3    1    1  \n",
      "21  13615099  2012          H01M    4    3    3    2    1    1  \n",
      "22  13422514  2012          B60L   42   20   16    6    8    3  \n"
     ]
    }
   ],
   "source": [
    "print(nests)"
   ]
  },
  {
   "cell_type": "code",
   "execution_count": 13,
   "metadata": {
    "collapsed": true
   },
   "outputs": [],
   "source": [
    "nests=nests.ix[:,10:].copy()"
   ]
  },
  {
   "cell_type": "code",
   "execution_count": 14,
   "metadata": {
    "collapsed": false
   },
   "outputs": [
    {
     "name": "stdout",
     "output_type": "stream",
     "text": [
      "           0  year subclass_code var3 var4 var5 var6 var7 var8\n",
      "0   13565851  2012          H01M   10    9    4    3    3    3\n",
      "1   13657304  2012          H01M    7    4    4    1    3    1\n",
      "2   13782409  2013          H01M   14    6    8    3    6    2\n",
      "3   12799871  2010          H01M    8    5    5    3    3    3\n",
      "4   13861455  2013          H01M    4    3    4    3    2    1\n",
      "5   14475246  2014          H01M    6    2    4    2    3    2\n",
      "6   13407409  2012          H01M    4    2    3    1    2    1\n",
      "7   13845762  2013          H01M   15   12    4    2    2    1\n",
      "8   14258647  2014          H01M    6    2    5    1    3    1\n",
      "9   12891242  2010          H01M    8    3    4    1    3    1\n",
      "10  14244997  2014          H01P    2    2    2    2    2    2\n",
      "11  14255322  2014          H01M    6    5    3    2    1    1\n",
      "12  13836321  2013          H01M    3    2    3    2    3    2\n",
      "13  14311495  2014          H01P    5    5    3    3    2    2\n",
      "14  13962718  2013          H01M    5    2    2    2    1    1\n",
      "15  13512649  2012          H01M   11    6    7    3    5    2\n",
      "16  13120214  2011          H01P    4    2    3    1    2    1\n",
      "17  14535512  2014          H01M   13    7    8    3    4    1\n",
      "18  14016422  2014          H01P    7    7    4    4    3    3\n",
      "19  13699661  2013          H01M    7    4    2    1    1    1\n",
      "20  13346409  2011          H01M   12   10    4    3    1    1\n",
      "21  13615099  2012          H01M    4    3    3    2    1    1\n",
      "22  13422514  2012          B60L   42   20   16    6    8    3\n"
     ]
    }
   ],
   "source": [
    "print(nests)"
   ]
  },
  {
   "cell_type": "code",
   "execution_count": 15,
   "metadata": {
    "collapsed": true
   },
   "outputs": [],
   "source": [
    "nests.columns=['patent_number','year','subclass_code','var3','var4','var5','var6','var7','var8']"
   ]
  },
  {
   "cell_type": "code",
   "execution_count": 16,
   "metadata": {
    "collapsed": false
   },
   "outputs": [
    {
     "name": "stdout",
     "output_type": "stream",
     "text": [
      "    patent_number  year subclass_code var3 var4 var5 var6 var7 var8\n",
      "0        13565851  2012          H01M   10    9    4    3    3    3\n",
      "1        13657304  2012          H01M    7    4    4    1    3    1\n",
      "2        13782409  2013          H01M   14    6    8    3    6    2\n",
      "3        12799871  2010          H01M    8    5    5    3    3    3\n",
      "4        13861455  2013          H01M    4    3    4    3    2    1\n",
      "5        14475246  2014          H01M    6    2    4    2    3    2\n",
      "6        13407409  2012          H01M    4    2    3    1    2    1\n",
      "7        13845762  2013          H01M   15   12    4    2    2    1\n",
      "8        14258647  2014          H01M    6    2    5    1    3    1\n",
      "9        12891242  2010          H01M    8    3    4    1    3    1\n",
      "10       14244997  2014          H01P    2    2    2    2    2    2\n",
      "11       14255322  2014          H01M    6    5    3    2    1    1\n",
      "12       13836321  2013          H01M    3    2    3    2    3    2\n",
      "13       14311495  2014          H01P    5    5    3    3    2    2\n",
      "14       13962718  2013          H01M    5    2    2    2    1    1\n",
      "15       13512649  2012          H01M   11    6    7    3    5    2\n",
      "16       13120214  2011          H01P    4    2    3    1    2    1\n",
      "17       14535512  2014          H01M   13    7    8    3    4    1\n",
      "18       14016422  2014          H01P    7    7    4    4    3    3\n",
      "19       13699661  2013          H01M    7    4    2    1    1    1\n",
      "20       13346409  2011          H01M   12   10    4    3    1    1\n",
      "21       13615099  2012          H01M    4    3    3    2    1    1\n",
      "22       13422514  2012          B60L   42   20   16    6    8    3\n"
     ]
    }
   ],
   "source": [
    "print(nests)"
   ]
  },
  {
   "cell_type": "code",
   "execution_count": null,
   "metadata": {
    "collapsed": true
   },
   "outputs": [],
   "source": []
  }
 ],
 "metadata": {
  "kernelspec": {
   "display_name": "Python [conda root]",
   "language": "python",
   "name": "conda-root-py"
  },
  "language_info": {
   "codemirror_mode": {
    "name": "ipython",
    "version": 3
   },
   "file_extension": ".py",
   "mimetype": "text/x-python",
   "name": "python",
   "nbconvert_exporter": "python",
   "pygments_lexer": "ipython3",
   "version": "3.5.2"
  }
 },
 "nbformat": 4,
 "nbformat_minor": 1
}
