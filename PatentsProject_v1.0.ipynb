{
 "cells": [
  {
   "cell_type": "markdown",
   "metadata": {},
   "source": [
    "# Cloud Computing Project <br />\n",
    "*k* Means Algorithm Implemented in Python <br />\n",
    "v1.0 <br />\n",
    "Only Taking in Numerical Variables (subclass transformed to numeric) <br />\n",
    "*output based on an extended version of 'sample_parsed_patents' file* <br />"
   ]
  },
  {
   "cell_type": "markdown",
   "metadata": {},
   "source": [
    "Import some Python Packages <br />\n",
    "*matplotlib used to do some visualization - sort of unsuccessfully* <br />\n",
    "*Pandas used to read in CSV file and manipulate data - will possibly need to find a way to do it w/o Pandas* <br />\n",
    "*os used to determine/find/change directories*"
   ]
  },
  {
   "cell_type": "code",
   "execution_count": 6,
   "metadata": {
    "collapsed": true
   },
   "outputs": [],
   "source": [
    "import matplotlib.pyplot as plt \n",
    "from matplotlib import style\n",
    "style.use('ggplot')\n",
    "import numpy as np\n",
    "import pandas as pd\n",
    "import os"
   ]
  },
  {
   "cell_type": "markdown",
   "metadata": {},
   "source": [
    "Read in csv file "
   ]
  },
  {
   "cell_type": "code",
   "execution_count": 7,
   "metadata": {
    "collapsed": true
   },
   "outputs": [],
   "source": [
    "patents=pd.read_csv('sample_parsed_patents2.csv')"
   ]
  },
  {
   "cell_type": "markdown",
   "metadata": {},
   "source": [
    "View first 5 rows of **patents**"
   ]
  },
  {
   "cell_type": "code",
   "execution_count": 5,
   "metadata": {
    "collapsed": false
   },
   "outputs": [
    {
     "data": {
      "text/html": [
       "<div>\n",
       "<table border=\"1\" class=\"dataframe\">\n",
       "  <thead>\n",
       "    <tr style=\"text-align: right;\">\n",
       "      <th></th>\n",
       "      <th>pat_num</th>\n",
       "      <th>year</th>\n",
       "      <th>sub_class</th>\n",
       "      <th>sub_class_int</th>\n",
       "      <th>n_tuple</th>\n",
       "      <th>b_index</th>\n",
       "    </tr>\n",
       "  </thead>\n",
       "  <tbody>\n",
       "    <tr>\n",
       "      <th>0</th>\n",
       "      <td>9300000</td>\n",
       "      <td>2000</td>\n",
       "      <td>H01G</td>\n",
       "      <td>640</td>\n",
       "      <td>4</td>\n",
       "      <td>4</td>\n",
       "    </tr>\n",
       "    <tr>\n",
       "      <th>1</th>\n",
       "      <td>9300001</td>\n",
       "      <td>2000</td>\n",
       "      <td>H01M</td>\n",
       "      <td>403</td>\n",
       "      <td>2</td>\n",
       "      <td>3</td>\n",
       "    </tr>\n",
       "    <tr>\n",
       "      <th>2</th>\n",
       "      <td>9300002</td>\n",
       "      <td>2000</td>\n",
       "      <td>H01G</td>\n",
       "      <td>399</td>\n",
       "      <td>4</td>\n",
       "      <td>2</td>\n",
       "    </tr>\n",
       "    <tr>\n",
       "      <th>3</th>\n",
       "      <td>9300003</td>\n",
       "      <td>2000</td>\n",
       "      <td>H03H</td>\n",
       "      <td>393</td>\n",
       "      <td>6</td>\n",
       "      <td>4</td>\n",
       "    </tr>\n",
       "    <tr>\n",
       "      <th>4</th>\n",
       "      <td>9300004</td>\n",
       "      <td>2000</td>\n",
       "      <td>H01M</td>\n",
       "      <td>170</td>\n",
       "      <td>3</td>\n",
       "      <td>4</td>\n",
       "    </tr>\n",
       "  </tbody>\n",
       "</table>\n",
       "</div>"
      ],
      "text/plain": [
       "   pat_num  year sub_class  sub_class_int  n_tuple  b_index\n",
       "0  9300000  2000      H01G            640        4        4\n",
       "1  9300001  2000      H01M            403        2        3\n",
       "2  9300002  2000      H01G            399        4        2\n",
       "3  9300003  2000      H03H            393        6        4\n",
       "4  9300004  2000      H01M            170        3        4"
      ]
     },
     "execution_count": 5,
     "metadata": {},
     "output_type": "execute_result"
    }
   ],
   "source": [
    "patents[:5]"
   ]
  },
  {
   "cell_type": "markdown",
   "metadata": {},
   "source": [
    "Making *sub_class_int*, *n_tuple*, and *b_index* into an array called **data**"
   ]
  },
  {
   "cell_type": "code",
   "execution_count": 11,
   "metadata": {
    "collapsed": true
   },
   "outputs": [],
   "source": [
    "data=patents.as_matrix(columns=patents.columns[3:])"
   ]
  },
  {
   "cell_type": "markdown",
   "metadata": {},
   "source": [
    "View first 10 elements of the array **data**"
   ]
  },
  {
   "cell_type": "code",
   "execution_count": 14,
   "metadata": {
    "collapsed": false
   },
   "outputs": [
    {
     "data": {
      "text/plain": [
       "array([[640,   4,   4],\n",
       "       [403,   2,   3],\n",
       "       [399,   4,   2],\n",
       "       [393,   6,   4],\n",
       "       [170,   3,   4],\n",
       "       [456,   2,   2],\n",
       "       [457,   3,   1],\n",
       "       [352,   2,   1],\n",
       "       [ 76,   2,   3]])"
      ]
     },
     "execution_count": 14,
     "metadata": {},
     "output_type": "execute_result"
    }
   ],
   "source": [
    "data[:9]"
   ]
  },
  {
   "cell_type": "markdown",
   "metadata": {},
   "source": [
    "  "
   ]
  },
  {
   "cell_type": "markdown",
   "metadata": {},
   "source": [
    "## The Clustering Algorithm <br />\n",
    "The actual \"doing part\"\n",
    "1. Randomize *k* cluster means among the data\n",
    "2. Iterate until convergence (max 1000) and keep track of count\n",
    "3. Calculate euclidean distance between array elements and cluster means\n",
    "  * Calculates new cluster means for each iteration and performs distance calculations again...until convergence \n",
    "\n",
    "The output of this function will let us know:\n",
    "1. How many data points were read\n",
    "2. How may iterations, if not 1000 max, it took before convergence\n",
    "3. The final cluster means of the predefined *k*"
   ]
  },
  {
   "cell_type": "code",
   "execution_count": 16,
   "metadata": {
    "collapsed": true
   },
   "outputs": [],
   "source": [
    "def k_means(data, k):\n",
    "    means = []\n",
    "\n",
    "    means = randomize(data, means, k)  \n",
    "\n",
    "    old_means = [[] for i in range(k)] \n",
    "\n",
    "    iterations = 0\n",
    "    while not (convergence(means, old_means, iterations)):\n",
    "        iterations += 1\n",
    "\n",
    "        clusters = [[] for i in range(k)]\n",
    "\n",
    "        clusters = distance_calc(data, means, clusters)\n",
    "\n",
    "        index = 0\n",
    "        for cluster in clusters:\n",
    "            old_means[index] = means[index]\n",
    "            means[index] = np.mean(cluster, axis=0).tolist()\n",
    "            index += 1\n",
    "\n",
    "\n",
    "    print(\"Total number of observations: \" + str(len(data)))\n",
    "    print(\"The number of iterations: \" + str(iterations))\n",
    "    print(\"The means of each cluster are: \" + str(means))\n",
    "\n",
    "    return"
   ]
  },
  {
   "cell_type": "markdown",
   "metadata": {},
   "source": [
    "**distance_calc** function calculates the distance between data observations and cluster means <br />\n",
    "**randomize** calculates the means of *k* (predefined) clusters randomly among the data <br />\n",
    "**convergence** compares *means* to *old_means* for each iteration, if same convergence has been achieved<br />"
   ]
  },
  {
   "cell_type": "code",
   "execution_count": 15,
   "metadata": {
    "collapsed": true
   },
   "outputs": [],
   "source": [
    "def distance_calc(data, means, clusters):\n",
    "    for instance in data:  \n",
    "        mean_index = min([(i[0], np.linalg.norm(instance-means[i[0]])) \\\n",
    "                            for i in enumerate(means)], key=lambda t:t[1])[0]\n",
    "        try:\n",
    "            clusters[mean_index].append(instance)\n",
    "        except KeyError:\n",
    "            clusters[mean_index] = [instance]\n",
    "\n",
    "    for cluster in clusters:\n",
    "        if not cluster:\n",
    "            cluster.append(data[np.random.randint(0, len(data), size=1)].flatten().tolist())\n",
    "\n",
    "    return clusters\n",
    "\n",
    "def randomize(data, means, k):\n",
    "    for cluster in range(0, k):\n",
    "        means.append(data[np.random.randint(0, len(data), size=1)].flatten().tolist())\n",
    "    return means\n",
    "   \n",
    "def convergence(means, old_means, iterations):\n",
    "    MAX_ITERATIONS = 1000\n",
    "    if iterations > MAX_ITERATIONS:\n",
    "        return True\n",
    "    return old_means == means"
   ]
  },
  {
   "cell_type": "code",
   "execution_count": null,
   "metadata": {
    "collapsed": true
   },
   "outputs": [],
   "source": []
  }
 ],
 "metadata": {
  "anaconda-cloud": {},
  "kernelspec": {
   "display_name": "Python [default]",
   "language": "python",
   "name": "python3"
  },
  "language_info": {
   "codemirror_mode": {
    "name": "ipython",
    "version": 3
   },
   "file_extension": ".py",
   "mimetype": "text/x-python",
   "name": "python",
   "nbconvert_exporter": "python",
   "pygments_lexer": "ipython3",
   "version": "3.5.2"
  }
 },
 "nbformat": 4,
 "nbformat_minor": 1
}
